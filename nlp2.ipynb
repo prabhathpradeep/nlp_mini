{
  "nbformat": 4,
  "nbformat_minor": 0,
  "metadata": {
    "colab": {
      "name": "nlp2.ipynb",
      "provenance": [],
      "collapsed_sections": []
    },
    "kernelspec": {
      "name": "python3",
      "display_name": "Python 3"
    },
    "language_info": {
      "name": "python"
    }
  },
  "cells": [
    {
      "cell_type": "code",
      "metadata": {
        "colab": {
          "base_uri": "https://localhost:8080/"
        },
        "id": "GvLDm1aRb1ek",
        "outputId": "65db6073-e008-4a30-e732-ce3970446939"
      },
      "source": [
        "from keras import models\n",
        "import pandas as pd\n",
        "from keras.preprocessing.text import Tokenizer\n",
        "from keras.preprocessing.sequence import pad_sequences\n",
        "\n",
        "\n",
        "train = pd.read_csv('sample_data/train.csv')\n",
        "\n",
        "list_classes = [\"toxic\", \"severe_toxic\", \"obscene\", \"threat\", \"insult\", \"identity_hate\"]\n",
        "\n",
        "list_sequences_train = train[\"comment_text\"]\n",
        "\n",
        "max_features = 22000\n",
        "tokenizer = Tokenizer(num_words=max_features)\n",
        "train = tokenizer.fit_on_texts(list(list_sequences_train))\n",
        "\n",
        "model = models.load_model(\"model.h5\")\n",
        "\n",
        "inp_sen = [\"this looks great\"]\n",
        "\n",
        "seq = tokenizer.texts_to_sequences(inp_sen)\n",
        "\n",
        "seq_pad = pad_sequences(seq,maxlen=200)\n",
        "\n",
        "\n",
        "pred = model.predict(seq_pad)\n",
        "\n",
        "\n",
        "\n",
        "out = pred.tolist()\n",
        "pred_out = out[0]\n",
        "act_art = []\n",
        "for i in range(len(pred_out)):\n",
        "    if(pred_out[i]>0.5):\n",
        "        act_art.append(list_classes[i])\n",
        "\n",
        "if(len(act_art)>0):\n",
        "    print(\",\".join(act_art))\n",
        "else:\n",
        "    print('Non-toxic comments')"
      ],
      "execution_count": null,
      "outputs": [
        {
          "output_type": "stream",
          "name": "stdout",
          "text": [
            "Non-toxic comments\n"
          ]
        }
      ]
    }
  ]
}